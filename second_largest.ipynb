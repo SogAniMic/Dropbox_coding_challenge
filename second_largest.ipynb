{
 "cells": [
  {
   "cell_type": "markdown",
   "id": "fc76279c",
   "metadata": {},
   "source": [
    "# Given the root to a binary search tree, find the second largest node in the tree."
   ]
  },
  {
   "cell_type": "code",
   "execution_count": null,
   "id": "49763aa7",
   "metadata": {},
   "outputs": [],
   "source": [
    "def second_largest(root):\n",
    "    def inorder(node):\n",
    "        if not node or count[0] == 2:\n",
    "            return\n",
    "\n",
    "        if node.right:\n",
    "            inorder(node.right)\n",
    "\n",
    "        count[0] += 1\n",
    "        if count[0] == 2:\n",
    "            val.append(node.val)\n",
    "            return\n",
    "\n",
    "        if node.left:\n",
    "            inorder(node.left)\n",
    "\n",
    "    count = [0]\n",
    "    val = []\n",
    "    inorder(root)\n",
    "    return val[0]"
   ]
  }
 ],
 "metadata": {
  "kernelspec": {
   "display_name": "Python 3 (ipykernel)",
   "language": "python",
   "name": "python3"
  },
  "language_info": {
   "codemirror_mode": {
    "name": "ipython",
    "version": 3
   },
   "file_extension": ".py",
   "mimetype": "text/x-python",
   "name": "python",
   "nbconvert_exporter": "python",
   "pygments_lexer": "ipython3",
   "version": "3.9.13"
  }
 },
 "nbformat": 4,
 "nbformat_minor": 5
}
