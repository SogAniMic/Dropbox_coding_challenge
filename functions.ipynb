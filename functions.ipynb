{
 "cells": [
  {
   "cell_type": "markdown",
   "id": "12e0fe63",
   "metadata": {},
   "source": [
    "# What does the below code snippet print out? How can we fix the anonymous functions to behave as we'd expect?\n",
    "\n",
    "functions = []\n",
    "for i in range(10):\n",
    "    functions.append(lambda : i)\n",
    "\n",
    "for f in functions:\n",
    "    print(f())"
   ]
  },
  {
   "cell_type": "code",
   "execution_count": null,
   "id": "b074d8ae",
   "metadata": {},
   "outputs": [],
   "source": [
    "functions = []\n",
    "for i in range(10):\n",
    "    functions.append(lambda i=i: i)\n",
    "\n",
    "for f in functions:\n",
    "    print(f())"
   ]
  }
 ],
 "metadata": {
  "kernelspec": {
   "display_name": "Python 3 (ipykernel)",
   "language": "python",
   "name": "python3"
  },
  "language_info": {
   "codemirror_mode": {
    "name": "ipython",
    "version": 3
   },
   "file_extension": ".py",
   "mimetype": "text/x-python",
   "name": "python",
   "nbconvert_exporter": "python",
   "pygments_lexer": "ipython3",
   "version": "3.9.13"
  }
 },
 "nbformat": 4,
 "nbformat_minor": 5
}
